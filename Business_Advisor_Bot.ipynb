{
 "cells": [
  {
   "cell_type": "code",
   "execution_count": null,
   "id": "650db499",
   "metadata": {},
   "outputs": [],
   "source": [
    "# Required modules\n",
    "!pip install nltk\n",
    "!pip install requests\n",
    "!pip install beautifulsoup4\n",
    "!pip install wikipedia\n",
    "!pip install num2words"
   ]
  },
  {
   "cell_type": "code",
   "execution_count": 15,
   "id": "2e56f3ec",
   "metadata": {},
   "outputs": [
    {
     "name": "stderr",
     "output_type": "stream",
     "text": [
      "[nltk_data] Downloading package punkt to C:\\Users\\Buddy\n",
      "[nltk_data]     Wick\\AppData\\Roaming\\nltk_data...\n",
      "[nltk_data]   Package punkt is already up-to-date!\n",
      "[nltk_data] Downloading package averaged_perceptron_tagger to\n",
      "[nltk_data]     C:\\Users\\Buddy Wick\\AppData\\Roaming\\nltk_data...\n",
      "[nltk_data]   Package averaged_perceptron_tagger is already up-to-\n",
      "[nltk_data]       date!\n"
     ]
    }
   ],
   "source": [
    "# Importing modules\n",
    "import nltk\n",
    "import requests\n",
    "from bs4 import BeautifulSoup\n",
    "import nltk\n",
    "from nltk.tokenize import word_tokenize\n",
    "from nltk.tag import pos_tag\n",
    "import datetime\n",
    "import wikipedia\n",
    "from num2words import num2words as words\n",
    "\n",
    "\n",
    "# Initialize the nlkt\n",
    "\n",
    "nltk.download(\"punkt\")\n",
    "nltk.download(\"averaged_perceptron_tagger\")\n",
    "\n",
    "\n",
    "# Sample patterns for different intents\n",
    "intent_patterns = {\n",
    "    \"business_plan\": [\"business plan\"],\n",
    "    \"financial_management\": [\"manage finances\", \"budgeting\", \"cash flow\"],\n",
    "    \"marketing_strategies\": [\"marketing strategies\", \"promote business\", \"social media\"],\n",
    "    \"customer_service\": [\"customer service\", \"handle complaints\", \"customer support\"],\n",
    "    \"hiring_employees\": [\"hiring employees\", \"attract talent\", \"conduct interviews\"],\n",
    "    \"online_presence\": [\"online presence\", \"social media presence\", \"SEO\"],\n",
    "    \"time\": [\"time\", \"current time\"],\n",
    "    \"date\": [\"date\", \"current date\"],\n",
    "    \"greeting_hello\": [\"hello\", \"hi\", \"hey\", \"hi there\", \"howdy\"],\n",
    "    \"greeting_good_morning\": [\"good morning\", \"morning\"],\n",
    "    \"greeting_good_afternoon\": [\"good afternoon\", \"afternoon\"],\n",
    "    \"greeting_good_evening\": [\"good evening\", \"evening\"],\n",
    "    \"greeting_how_are_you\": [\"how are you\", \"how are you doing\", \"how's it going\"]\n",
    "    \n",
    "    # Add more patterns for other intents as needed\n",
    "    }\n",
    "\n",
    "\n",
    "def get_intent(user_query):\n",
    "    # Tokenize the user query\n",
    "    tokens = word_tokenize(user_query)\n",
    "\n",
    "    # Part-of-speech tagging to get the grammatical category of each word\n",
    "    tagged_tokens = pos_tag(tokens)\n",
    "\n",
    "    # Convert to lowercase for case-insensitive pattern matching\n",
    "    tagged_tokens_lower = [(token.lower(), tag) for token, tag in tagged_tokens]\n",
    "\n",
    "    # Initialize intent as None (not recognized)\n",
    "    intent = None\n",
    "\n",
    "    # Perform pattern matching to identify the intent\n",
    "    for intent_key, patterns in intent_patterns.items():\n",
    "        for pattern in patterns:\n",
    "            if all(pattern_word.lower() in [token for token, _ in tagged_tokens_lower] for pattern_word in pattern.split()):\n",
    "                intent = intent_key\n",
    "                break\n",
    "\n",
    "    return intent"
   ]
  },
  {
   "cell_type": "code",
   "execution_count": 16,
   "id": "77da5694",
   "metadata": {},
   "outputs": [],
   "source": [
    "def get_response(query):\n",
    "    date = get_date()\n",
    "    time = get_time()\n",
    "    responses = {\n",
    "        \"greeting_hello\": \"Namaskaram! I'm Here to Help You\",\n",
    "        \"greeting_good_morning\": \"Good Morning! How Can I Assit You Today ?\",\n",
    "        \"greeting_good_afternoon\": \"Good Afternoon! How Can I Assist Now ?\",\n",
    "        \"greeting_good_evening\": \"Good Evening! How Can I Help You ?\",\n",
    "        \"greeting_how_are_you\": \"I'm Good... Hope You Doing Well...\",\n",
    "        \"business_plan\": \"A plan should include an executive summary, company description, market analysis, product/service details, marketing strategies, financial projects, and an implementation plan.\",\n",
    "        \"financial_management\": \"To manage finances effectively, track expenses, create a budget, and consider hiring an accountant.\",\n",
    "        \"market_strategies\" : \"For marketing strategies, consider using social media, content marketing, and email campaigns.\",\n",
    "        \"customer_service\": \"Improving customer service can be achieved through personalized support and quick response times.\",\n",
    "        \"hiring_presence\": \"When hiring employees, focus on skills, cultural fit, and conducting thorough interviews.\",\n",
    "        \"online_presence\": \"To increase online presence, optimize your website for search engines and engage with social media.\",\n",
    "        \"time\": f'{time}',\n",
    "        \"date\": f\"{date}\"\n",
    "    }\n",
    "    \n",
    "    if query not in responses:\n",
    "        return None\n",
    "    return responses[query]"
   ]
  },
  {
   "cell_type": "code",
   "execution_count": 17,
   "id": "2cc97086",
   "metadata": {},
   "outputs": [],
   "source": [
    "def get_wikipedia_summary(query, sentences=1):\n",
    "    \"\"\"\n",
    "    Get a summary of the Wikipedia page related to the given query.\n",
    "\n",
    "    :param query: The user's query.\n",
    "    :param sentences: The number of sentences in the summary. Default is 1.\n",
    "    :return: The Wikipedia summary as a string, or None if not found.\n",
    "    \"\"\"\n",
    "    try:\n",
    "        page = wikipedia.page(query)\n",
    "        return wikipedia.summary(query, sentences=sentences)\n",
    "    except wikipedia.exceptions.DisambiguationError as e:\n",
    "        # If the query is ambiguous, select the first option from the list\n",
    "        page = wikipedia.page(e.options[0])\n",
    "        return wikipedia.summary(page.title, sentences=sentences)\n",
    "    except wikipedia.exceptions.PageError:\n",
    "        return None"
   ]
  },
  {
   "cell_type": "code",
   "execution_count": 18,
   "id": "dadb5cbf",
   "metadata": {
    "scrolled": true
   },
   "outputs": [],
   "source": [
    "def get_time():\n",
    "    current_datetime = datetime.datetime.now()\n",
    "    hour = current_datetime.hour\n",
    "    minute = current_datetime.minute\n",
    "    if minute == 0:\n",
    "        if hour > 12:\n",
    "            hour -= 12\n",
    "        \n",
    "        return f\"It's {words(hour).title()} O' Clock\"\n",
    "    else:\n",
    "        if hour > 12:\n",
    "            hour -= 12\n",
    "            \n",
    "        return f\"It's {words(hour).title()} {words(minute).title()}\"\n",
    "    \n",
    "def get_date():\n",
    "    current_datetime = datetime.datetime.now()\n",
    "    formatted_date = current_datetime.strftime(\"%d %B %Y %A\")\n",
    "    return formatted_date\n",
    "\n",
    "    "
   ]
  },
  {
   "cell_type": "code",
   "execution_count": 21,
   "id": "ef399905",
   "metadata": {
    "scrolled": true
   },
   "outputs": [
    {
     "name": "stdout",
     "output_type": "stream",
     "text": [
      "Chatbot: Hello! How can I assist you? (Type 'exit' to end the conversation.)\n",
      "You: Hello\n",
      "Chatbot:  Namaskaram! I'm Here to Help You\n",
      "Hello is a salutation or greeting in the English language.\n",
      "You: What is time now\n",
      "Chatbot:  It's Ten Twenty-Three\n",
      "You: What is today date\n",
      "Chatbot:  30 July 2023 Sunday\n",
      "You: what is business plan\n",
      "Chatbot:  A plan should include an executive summary, company description, market analysis, product/service details, marketing strategies, financial projects, and an implementation plan.\n",
      "You: Do you know about SEO\n",
      "Chatbot:  To increase online presence, optimize your website for search engines and engage with social media.\n",
      "Online presence management is the process of creating and promoting traffic to a personal or professional brand online.\n",
      "You: exit\n",
      "Chatbot: Goodbye! Have a great day.\n"
     ]
    }
   ],
   "source": [
    "def chatbot():\n",
    "    print(\"Chatbot: Hello! How can I assist you? (Type 'exit' to end the conversation.)\")\n",
    "    while True:\n",
    "        user_input = input(\"You: \")\n",
    "        if user_input.lower() == \"exit\":\n",
    "            print(\"Chatbot: Goodbye! Have a great day.\")\n",
    "            break\n",
    "        intent = get_intent(user_input)\n",
    "        if intent not in ['time', 'date']:\n",
    "            response = get_response(intent)\n",
    "            info = get_wikipedia_summary(intent)\n",
    "            print(\"Chatbot: \", response)\n",
    "            if info:\n",
    "                print(info)\n",
    "            \n",
    "        elif intent in ['time', 'date']:\n",
    "            response = get_response(intent)\n",
    "            print(\"Chatbot: \", response)\n",
    "            \n",
    "        else:\n",
    "            print(\"Chatbot: I'm sorry, I can only understand business related queries.\")\n",
    "\n",
    "if __name__ == \"__main__\":\n",
    "    chatbot()\n"
   ]
  }
 ],
 "metadata": {
  "kernelspec": {
   "display_name": "Python 3 (ipykernel)",
   "language": "python",
   "name": "python3"
  },
  "language_info": {
   "codemirror_mode": {
    "name": "ipython",
    "version": 3
   },
   "file_extension": ".py",
   "mimetype": "text/x-python",
   "name": "python",
   "nbconvert_exporter": "python",
   "pygments_lexer": "ipython3",
   "version": "3.10.9"
  }
 },
 "nbformat": 4,
 "nbformat_minor": 5
}
